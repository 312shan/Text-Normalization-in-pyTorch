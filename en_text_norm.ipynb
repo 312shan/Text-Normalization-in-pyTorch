{
 "cells": [
  {
   "cell_type": "code",
   "execution_count": 1,
   "metadata": {},
   "outputs": [],
   "source": [
    "\n",
    "from __future__ import unicode_literals, print_function, division\n",
    "\n",
    "from io import open\n",
    "import unicodedata\n",
    "import string\n",
    "import re\n",
    "import random\n",
    "\n",
    "import pandas as pd\n",
    "\n",
    "import torch\n",
    "import torch.nn as nn\n",
    "from torch import optim\n",
    "import torch.nn.functional as F\n",
    "\n",
    "import matplotlib.pyplot as plt\n",
    "plt.switch_backend('agg')\n",
    "import matplotlib.ticker as ticker\n",
    "import numpy as np\n",
    "%matplotlib inline\n",
    "\n",
    "device = torch.device(\"cuda\" if torch.cuda.is_available() else \"cpu\")"
   ]
  },
  {
   "cell_type": "code",
   "execution_count": 2,
   "metadata": {},
   "outputs": [],
   "source": [
    "df = pd.read_csv('./data/en_train.csv',encoding='utf-8')"
   ]
  },
  {
   "cell_type": "code",
   "execution_count": 3,
   "metadata": {},
   "outputs": [],
   "source": [
    "df = df[df['class']=='DATE']"
   ]
  },
  {
   "cell_type": "code",
   "execution_count": 154,
   "metadata": {
    "scrolled": true
   },
   "outputs": [
    {
     "data": {
      "text/html": [
       "<div>\n",
       "<style scoped>\n",
       "    .dataframe tbody tr th:only-of-type {\n",
       "        vertical-align: middle;\n",
       "    }\n",
       "\n",
       "    .dataframe tbody tr th {\n",
       "        vertical-align: top;\n",
       "    }\n",
       "\n",
       "    .dataframe thead th {\n",
       "        text-align: right;\n",
       "    }\n",
       "</style>\n",
       "<table border=\"1\" class=\"dataframe\">\n",
       "  <thead>\n",
       "    <tr style=\"text-align: right;\">\n",
       "      <th></th>\n",
       "      <th>sentence_id</th>\n",
       "      <th>token_id</th>\n",
       "      <th>class</th>\n",
       "      <th>before</th>\n",
       "      <th>after</th>\n",
       "    </tr>\n",
       "  </thead>\n",
       "  <tbody>\n",
       "    <tr>\n",
       "      <th>10</th>\n",
       "      <td>1</td>\n",
       "      <td>0</td>\n",
       "      <td>DATE</td>\n",
       "      <td>2006</td>\n",
       "      <td>two thousand six</td>\n",
       "    </tr>\n",
       "    <tr>\n",
       "      <th>51</th>\n",
       "      <td>3</td>\n",
       "      <td>7</td>\n",
       "      <td>DATE</td>\n",
       "      <td>2007</td>\n",
       "      <td>two thousand seven</td>\n",
       "    </tr>\n",
       "    <tr>\n",
       "      <th>80</th>\n",
       "      <td>5</td>\n",
       "      <td>0</td>\n",
       "      <td>DATE</td>\n",
       "      <td>2008</td>\n",
       "      <td>two thousand eight</td>\n",
       "    </tr>\n",
       "    <tr>\n",
       "      <th>111</th>\n",
       "      <td>8</td>\n",
       "      <td>1</td>\n",
       "      <td>DATE</td>\n",
       "      <td>4 March 2014</td>\n",
       "      <td>the fourth of march twenty fourteen</td>\n",
       "    </tr>\n",
       "    <tr>\n",
       "      <th>147</th>\n",
       "      <td>11</td>\n",
       "      <td>1</td>\n",
       "      <td>DATE</td>\n",
       "      <td>April 10, 2013</td>\n",
       "      <td>april tenth twenty thirteen</td>\n",
       "    </tr>\n",
       "    <tr>\n",
       "      <th>151</th>\n",
       "      <td>12</td>\n",
       "      <td>2</td>\n",
       "      <td>DATE</td>\n",
       "      <td>7 August 2007</td>\n",
       "      <td>the seventh of august two thousand seven</td>\n",
       "    </tr>\n",
       "    <tr>\n",
       "      <th>158</th>\n",
       "      <td>14</td>\n",
       "      <td>1</td>\n",
       "      <td>DATE</td>\n",
       "      <td>1987</td>\n",
       "      <td>nineteen eighty seven</td>\n",
       "    </tr>\n",
       "    <tr>\n",
       "      <th>211</th>\n",
       "      <td>18</td>\n",
       "      <td>12</td>\n",
       "      <td>DATE</td>\n",
       "      <td>1996</td>\n",
       "      <td>nineteen ninety six</td>\n",
       "    </tr>\n",
       "    <tr>\n",
       "      <th>256</th>\n",
       "      <td>22</td>\n",
       "      <td>1</td>\n",
       "      <td>DATE</td>\n",
       "      <td>22 September 2015</td>\n",
       "      <td>the twenty second of september twenty fifteen</td>\n",
       "    </tr>\n",
       "    <tr>\n",
       "      <th>367</th>\n",
       "      <td>29</td>\n",
       "      <td>2</td>\n",
       "      <td>DATE</td>\n",
       "      <td>November 4, 2014</td>\n",
       "      <td>november fourth twenty fourteen</td>\n",
       "    </tr>\n",
       "    <tr>\n",
       "      <th>381</th>\n",
       "      <td>30</td>\n",
       "      <td>12</td>\n",
       "      <td>DATE</td>\n",
       "      <td>1916</td>\n",
       "      <td>nineteen sixteen</td>\n",
       "    </tr>\n",
       "    <tr>\n",
       "      <th>432</th>\n",
       "      <td>34</td>\n",
       "      <td>2</td>\n",
       "      <td>DATE</td>\n",
       "      <td>1982</td>\n",
       "      <td>nineteen eighty two</td>\n",
       "    </tr>\n",
       "    <tr>\n",
       "      <th>464</th>\n",
       "      <td>36</td>\n",
       "      <td>1</td>\n",
       "      <td>DATE</td>\n",
       "      <td>7 December 2015</td>\n",
       "      <td>the seventh of december twenty fifteen</td>\n",
       "    </tr>\n",
       "    <tr>\n",
       "      <th>470</th>\n",
       "      <td>37</td>\n",
       "      <td>4</td>\n",
       "      <td>DATE</td>\n",
       "      <td>11/17/09</td>\n",
       "      <td>november seventeenth o nine</td>\n",
       "    </tr>\n",
       "    <tr>\n",
       "      <th>513</th>\n",
       "      <td>41</td>\n",
       "      <td>0</td>\n",
       "      <td>DATE</td>\n",
       "      <td>August 16, 2005</td>\n",
       "      <td>august sixteenth two thousand five</td>\n",
       "    </tr>\n",
       "    <tr>\n",
       "      <th>555</th>\n",
       "      <td>44</td>\n",
       "      <td>5</td>\n",
       "      <td>DATE</td>\n",
       "      <td>1573</td>\n",
       "      <td>fifteen seventy three</td>\n",
       "    </tr>\n",
       "    <tr>\n",
       "      <th>557</th>\n",
       "      <td>44</td>\n",
       "      <td>7</td>\n",
       "      <td>DATE</td>\n",
       "      <td>1595</td>\n",
       "      <td>fifteen ninety five</td>\n",
       "    </tr>\n",
       "    <tr>\n",
       "      <th>582</th>\n",
       "      <td>45</td>\n",
       "      <td>9</td>\n",
       "      <td>DATE</td>\n",
       "      <td>1929</td>\n",
       "      <td>nineteen twenty nine</td>\n",
       "    </tr>\n",
       "    <tr>\n",
       "      <th>645</th>\n",
       "      <td>49</td>\n",
       "      <td>10</td>\n",
       "      <td>DATE</td>\n",
       "      <td>1933</td>\n",
       "      <td>nineteen thirty three</td>\n",
       "    </tr>\n",
       "    <tr>\n",
       "      <th>670</th>\n",
       "      <td>51</td>\n",
       "      <td>1</td>\n",
       "      <td>DATE</td>\n",
       "      <td>3 February 2016</td>\n",
       "      <td>the third of february twenty sixteen</td>\n",
       "    </tr>\n",
       "    <tr>\n",
       "      <th>677</th>\n",
       "      <td>52</td>\n",
       "      <td>5</td>\n",
       "      <td>DATE</td>\n",
       "      <td>September 5, 1895</td>\n",
       "      <td>september fifth eighteen ninety five</td>\n",
       "    </tr>\n",
       "    <tr>\n",
       "      <th>753</th>\n",
       "      <td>57</td>\n",
       "      <td>4</td>\n",
       "      <td>DATE</td>\n",
       "      <td>December 29, 2012</td>\n",
       "      <td>december twenty ninth twenty twelve</td>\n",
       "    </tr>\n",
       "    <tr>\n",
       "      <th>775</th>\n",
       "      <td>58</td>\n",
       "      <td>6</td>\n",
       "      <td>DATE</td>\n",
       "      <td>1946</td>\n",
       "      <td>nineteen forty six</td>\n",
       "    </tr>\n",
       "    <tr>\n",
       "      <th>777</th>\n",
       "      <td>58</td>\n",
       "      <td>8</td>\n",
       "      <td>DATE</td>\n",
       "      <td>1975</td>\n",
       "      <td>nineteen seventy five</td>\n",
       "    </tr>\n",
       "    <tr>\n",
       "      <th>822</th>\n",
       "      <td>61</td>\n",
       "      <td>9</td>\n",
       "      <td>DATE</td>\n",
       "      <td>1919</td>\n",
       "      <td>nineteen nineteen</td>\n",
       "    </tr>\n",
       "    <tr>\n",
       "      <th>829</th>\n",
       "      <td>61</td>\n",
       "      <td>16</td>\n",
       "      <td>DATE</td>\n",
       "      <td>1990</td>\n",
       "      <td>nineteen ninety</td>\n",
       "    </tr>\n",
       "    <tr>\n",
       "      <th>831</th>\n",
       "      <td>61</td>\n",
       "      <td>18</td>\n",
       "      <td>DATE</td>\n",
       "      <td>2000</td>\n",
       "      <td>two thousand</td>\n",
       "    </tr>\n",
       "    <tr>\n",
       "      <th>851</th>\n",
       "      <td>62</td>\n",
       "      <td>18</td>\n",
       "      <td>DATE</td>\n",
       "      <td>2004</td>\n",
       "      <td>two thousand four</td>\n",
       "    </tr>\n",
       "    <tr>\n",
       "      <th>863</th>\n",
       "      <td>63</td>\n",
       "      <td>10</td>\n",
       "      <td>DATE</td>\n",
       "      <td>2008</td>\n",
       "      <td>two thousand eight</td>\n",
       "    </tr>\n",
       "    <tr>\n",
       "      <th>866</th>\n",
       "      <td>64</td>\n",
       "      <td>1</td>\n",
       "      <td>DATE</td>\n",
       "      <td>25 July 2012</td>\n",
       "      <td>the twenty fifth of july twenty twelve</td>\n",
       "    </tr>\n",
       "  </tbody>\n",
       "</table>\n",
       "</div>"
      ],
      "text/plain": [
       "     sentence_id  token_id class             before  \\\n",
       "10             1         0  DATE               2006   \n",
       "51             3         7  DATE               2007   \n",
       "80             5         0  DATE               2008   \n",
       "111            8         1  DATE       4 March 2014   \n",
       "147           11         1  DATE     April 10, 2013   \n",
       "151           12         2  DATE      7 August 2007   \n",
       "158           14         1  DATE               1987   \n",
       "211           18        12  DATE               1996   \n",
       "256           22         1  DATE  22 September 2015   \n",
       "367           29         2  DATE   November 4, 2014   \n",
       "381           30        12  DATE               1916   \n",
       "432           34         2  DATE               1982   \n",
       "464           36         1  DATE    7 December 2015   \n",
       "470           37         4  DATE           11/17/09   \n",
       "513           41         0  DATE    August 16, 2005   \n",
       "555           44         5  DATE               1573   \n",
       "557           44         7  DATE               1595   \n",
       "582           45         9  DATE               1929   \n",
       "645           49        10  DATE               1933   \n",
       "670           51         1  DATE    3 February 2016   \n",
       "677           52         5  DATE  September 5, 1895   \n",
       "753           57         4  DATE  December 29, 2012   \n",
       "775           58         6  DATE               1946   \n",
       "777           58         8  DATE               1975   \n",
       "822           61         9  DATE               1919   \n",
       "829           61        16  DATE               1990   \n",
       "831           61        18  DATE               2000   \n",
       "851           62        18  DATE               2004   \n",
       "863           63        10  DATE               2008   \n",
       "866           64         1  DATE       25 July 2012   \n",
       "\n",
       "                                             after  \n",
       "10                                two thousand six  \n",
       "51                              two thousand seven  \n",
       "80                              two thousand eight  \n",
       "111            the fourth of march twenty fourteen  \n",
       "147                    april tenth twenty thirteen  \n",
       "151       the seventh of august two thousand seven  \n",
       "158                          nineteen eighty seven  \n",
       "211                            nineteen ninety six  \n",
       "256  the twenty second of september twenty fifteen  \n",
       "367                november fourth twenty fourteen  \n",
       "381                               nineteen sixteen  \n",
       "432                            nineteen eighty two  \n",
       "464         the seventh of december twenty fifteen  \n",
       "470                    november seventeenth o nine  \n",
       "513             august sixteenth two thousand five  \n",
       "555                          fifteen seventy three  \n",
       "557                            fifteen ninety five  \n",
       "582                           nineteen twenty nine  \n",
       "645                          nineteen thirty three  \n",
       "670           the third of february twenty sixteen  \n",
       "677           september fifth eighteen ninety five  \n",
       "753            december twenty ninth twenty twelve  \n",
       "775                             nineteen forty six  \n",
       "777                          nineteen seventy five  \n",
       "822                              nineteen nineteen  \n",
       "829                                nineteen ninety  \n",
       "831                                   two thousand  \n",
       "851                              two thousand four  \n",
       "863                             two thousand eight  \n",
       "866         the twenty fifth of july twenty twelve  "
      ]
     },
     "execution_count": 154,
     "metadata": {},
     "output_type": "execute_result"
    }
   ],
   "source": [
    "df.head(30)"
   ]
  },
  {
   "cell_type": "code",
   "execution_count": 5,
   "metadata": {},
   "outputs": [],
   "source": [
    "MAX_LENGTH = df.after.str.len().max()"
   ]
  },
  {
   "cell_type": "code",
   "execution_count": 6,
   "metadata": {},
   "outputs": [],
   "source": [
    "SOS_token = 0\n",
    "EOS_token = 1\n",
    "\n",
    "\n",
    "class Lang:\n",
    "    def __init__(self, name):\n",
    "        self.name = name\n",
    "        self.char2index = {}\n",
    "        self.char2count = {}\n",
    "        self.index2char = {0: \"SOS\", 1: \"EOS\"}\n",
    "        self.n_chars = 2  # Count SOS and EOS\n",
    "\n",
    "    def add_sentence(self, sentence):\n",
    "        for char in sentence:\n",
    "            self.add_char(char)\n",
    "\n",
    "    def add_char(self, char):\n",
    "        if char not in self.char2index:\n",
    "            self.char2index[char] = self.n_chars\n",
    "            self.char2count[char] = 1\n",
    "            self.index2char[self.n_chars] = char\n",
    "            self.n_chars += 1\n",
    "        else:\n",
    "            self.char2count[char] += 1"
   ]
  },
  {
   "cell_type": "code",
   "execution_count": 7,
   "metadata": {},
   "outputs": [],
   "source": [
    "def readLangs(df,lang1, lang2, reverse=False):\n",
    "    pairs = [[a,b] for b,a in zip(df[lang1],df[lang2])]\n",
    "    # Reverse pairs, make Lang instances\n",
    "    if reverse:\n",
    "        pairs = [list(reversed(p)) for p in pairs]\n",
    "        input_lang = Lang(lang2)\n",
    "        output_lang = Lang(lang1)\n",
    "    else:\n",
    "        input_lang = Lang(lang1)\n",
    "        output_lang = Lang(lang2)\n",
    "\n",
    "    return input_lang, output_lang, pairs"
   ]
  },
  {
   "cell_type": "code",
   "execution_count": 8,
   "metadata": {},
   "outputs": [],
   "source": [
    "def prepareData(df,lang1, lang2, reverse=False):\n",
    "    MAX_LENGTH = df[lang2].str.len().max()\n",
    "    input_lang, output_lang, pairs = readLangs(df,lang1, lang2, reverse)\n",
    "    print(\"Read %s sentence pairs\" % len(pairs))\n",
    "    print(\"Counting chars...\")\n",
    "    for pair in pairs:\n",
    "        input_lang.add_sentence(pair[0])\n",
    "        output_lang.add_sentence(pair[1])\n",
    "    print(\"Counted chars:\")\n",
    "    print(input_lang.name, input_lang.n_chars)\n",
    "    print(output_lang.name, output_lang.n_chars)\n",
    "    return input_lang, output_lang, pairs"
   ]
  },
  {
   "cell_type": "code",
   "execution_count": 9,
   "metadata": {},
   "outputs": [
    {
     "name": "stdout",
     "output_type": "stream",
     "text": [
      "Read 258348 sentence pairs\n",
      "Counting chars...\n",
      "Counted chars:\n",
      "after 62\n",
      "before 26\n",
      "['1937', 'nineteen thirty seven']\n"
     ]
    }
   ],
   "source": [
    "input_lang, output_lang, pairs = prepareData(df,'before', 'after', True)\n",
    "print(random.choice(pairs))"
   ]
  },
  {
   "cell_type": "code",
   "execution_count": 10,
   "metadata": {},
   "outputs": [],
   "source": [
    "class EncoderRNN(nn.Module):\n",
    "    def __init__(self, input_size, hidden_size):\n",
    "        super(EncoderRNN, self).__init__()\n",
    "        self.hidden_size = hidden_size\n",
    "\n",
    "        self.embedding = nn.Embedding(input_size, hidden_size) # embedding_size (vocab_size), embedding_dim\n",
    "        self.gru = nn.GRU(hidden_size, hidden_size)\n",
    "\n",
    "    def forward(self, input, hidden):\n",
    "        embedded = self.embedding(input).view(1, 1, -1)\n",
    "        output = embedded\n",
    "        output, hidden = self.gru(output, hidden)\n",
    "        return output, hidden\n",
    "\n",
    "    def initHidden(self):\n",
    "        return torch.zeros(1, 1, self.hidden_size, device=device)"
   ]
  },
  {
   "cell_type": "code",
   "execution_count": 11,
   "metadata": {},
   "outputs": [],
   "source": [
    "class AttnDecoderRNN(nn.Module):\n",
    "    def __init__(self, hidden_size, output_size, dropout_p=0.1, max_length=MAX_LENGTH):\n",
    "        super(AttnDecoderRNN, self).__init__()\n",
    "        self.hidden_size = hidden_size\n",
    "        self.output_size = output_size\n",
    "        self.dropout_p = dropout_p\n",
    "        self.max_length = max_length\n",
    "\n",
    "        self.embedding = nn.Embedding(self.output_size, self.hidden_size)\n",
    "        self.attn = nn.Linear(self.hidden_size * 2, self.max_length)\n",
    "        self.attn_combine = nn.Linear(self.hidden_size * 2, self.hidden_size)\n",
    "        self.dropout = nn.Dropout(self.dropout_p)\n",
    "        self.gru = nn.GRU(self.hidden_size, self.hidden_size)\n",
    "        self.out = nn.Linear(self.hidden_size, self.output_size)\n",
    "\n",
    "    def forward(self, input, hidden, encoder_outputs):\n",
    "        embedded = self.embedding(input).view(1, 1, -1)\n",
    "        embedded = self.dropout(embedded)\n",
    "\n",
    "        attn_weights = F.softmax(\n",
    "            self.attn(torch.cat((embedded[0], hidden[0]), 1)), dim=1)\n",
    "        attn_applied = torch.bmm(attn_weights.unsqueeze(0),\n",
    "                                 encoder_outputs.unsqueeze(0))\n",
    "\n",
    "        output = torch.cat((embedded[0], attn_applied[0]), 1)\n",
    "        output = self.attn_combine(output).unsqueeze(0)\n",
    "\n",
    "        output = F.relu(output)\n",
    "        output, hidden = self.gru(output, hidden)\n",
    "\n",
    "        output = F.log_softmax(self.out(output[0]), dim=1)\n",
    "        return output, hidden, attn_weights\n",
    "\n",
    "    def initHidden(self):\n",
    "        return torch.zeros(1, 1, self.hidden_size, device=device)"
   ]
  },
  {
   "cell_type": "code",
   "execution_count": 12,
   "metadata": {},
   "outputs": [],
   "source": [
    "def indexesFromSentence(lang, sentence):\n",
    "    return [lang.char2index[char] for char in sentence]\n",
    "\n",
    "\n",
    "def tensorFromSentence(lang, sentence):\n",
    "    indexes = indexesFromSentence(lang, sentence)\n",
    "    indexes.append(EOS_token)\n",
    "    return torch.tensor(indexes, dtype=torch.long, device=device).view(-1, 1)\n",
    "\n",
    "\n",
    "def tensorsFromPair(pair):\n",
    "    input_tensor = tensorFromSentence(input_lang, pair[0])\n",
    "    target_tensor = tensorFromSentence(output_lang, pair[1])\n",
    "    return (input_tensor, target_tensor)"
   ]
  },
  {
   "cell_type": "code",
   "execution_count": 13,
   "metadata": {},
   "outputs": [],
   "source": [
    "teacher_forcing_ratio = 0.5\n",
    "\n",
    "\n",
    "def train(input_tensor, target_tensor, encoder, decoder, encoder_optimizer, decoder_optimizer, criterion, max_length=MAX_LENGTH):\n",
    "    encoder_hidden = encoder.initHidden()\n",
    "\n",
    "    encoder_optimizer.zero_grad()\n",
    "    decoder_optimizer.zero_grad()\n",
    "\n",
    "    input_length = input_tensor.size(0)\n",
    "    target_length = target_tensor.size(0)\n",
    "\n",
    "    encoder_outputs = torch.zeros(max_length, encoder.hidden_size, device=device)\n",
    "\n",
    "    loss = 0\n",
    "\n",
    "    for ei in range(input_length):\n",
    "        encoder_output, encoder_hidden = encoder(\n",
    "            input_tensor[ei], encoder_hidden)\n",
    "        encoder_outputs[ei] = encoder_output[0, 0]\n",
    "\n",
    "    decoder_input = torch.tensor([[SOS_token]], device=device)\n",
    "\n",
    "    decoder_hidden = encoder_hidden\n",
    "\n",
    "    use_teacher_forcing = True if random.random() < teacher_forcing_ratio else False\n",
    "\n",
    "    if use_teacher_forcing:\n",
    "        # Teacher forcing: Feed the target as the next input\n",
    "        for di in range(target_length):\n",
    "            decoder_output, decoder_hidden, decoder_attention = decoder(\n",
    "                decoder_input, decoder_hidden, encoder_outputs)\n",
    "            loss += criterion(decoder_output, target_tensor[di])\n",
    "            decoder_input = target_tensor[di]  # Teacher forcing\n",
    "\n",
    "    else:\n",
    "        # Without teacher forcing: use its own predictions as the next input\n",
    "        for di in range(target_length):\n",
    "            decoder_output, decoder_hidden, decoder_attention = decoder(\n",
    "                decoder_input, decoder_hidden, encoder_outputs)\n",
    "            topv, topi = decoder_output.topk(1)\n",
    "            decoder_input = topi.squeeze().detach()  # detach from history as input\n",
    "\n",
    "            loss += criterion(decoder_output, target_tensor[di])\n",
    "            if decoder_input.item() == EOS_token:\n",
    "                break\n",
    "\n",
    "    loss.backward()\n",
    "\n",
    "    encoder_optimizer.step()\n",
    "    decoder_optimizer.step()\n",
    "\n",
    "    return loss.item() / target_length\n"
   ]
  },
  {
   "cell_type": "code",
   "execution_count": 14,
   "metadata": {},
   "outputs": [],
   "source": [
    "######################################################################\n",
    "# This is a helper function to print time elapsed and estimated time\n",
    "# remaining given the current time and progress %.\n",
    "#\n",
    "\n",
    "import time\n",
    "import math\n",
    "\n",
    "\n",
    "def asMinutes(s):\n",
    "    m = math.floor(s / 60)\n",
    "    s -= m * 60\n",
    "    return '%dm %ds' % (m, s)\n",
    "\n",
    "\n",
    "def timeSince(since, percent):\n",
    "    now = time.time()\n",
    "    s = now - since\n",
    "    es = s / (percent)\n",
    "    rs = es - s\n",
    "    return '%s (- %s)' % (asMinutes(s), asMinutes(rs))\n"
   ]
  },
  {
   "cell_type": "code",
   "execution_count": 15,
   "metadata": {},
   "outputs": [],
   "source": [
    "def trainIters(encoder, decoder, n_iters, print_every=1000, plot_every=100, learning_rate=0.01):\n",
    "    start = time.time()\n",
    "    plot_losses = []\n",
    "    print_loss_total = 0  # Reset every print_every\n",
    "    plot_loss_total = 0  # Reset every plot_every\n",
    "\n",
    "    encoder_optimizer = optim.SGD(encoder.parameters(), lr=learning_rate)\n",
    "    decoder_optimizer = optim.SGD(decoder.parameters(), lr=learning_rate)\n",
    "    training_pairs = [tensorsFromPair(random.choice(pairs))\n",
    "                      for i in range(n_iters)]\n",
    "    criterion = nn.NLLLoss()\n",
    "\n",
    "    for iter in range(1, n_iters + 1):\n",
    "        training_pair = training_pairs[iter - 1]\n",
    "        input_tensor = training_pair[0]\n",
    "        target_tensor = training_pair[1]\n",
    "\n",
    "        loss = train(input_tensor, target_tensor, encoder,\n",
    "                     decoder, encoder_optimizer, decoder_optimizer, criterion)\n",
    "        print_loss_total += loss\n",
    "        plot_loss_total += loss\n",
    "\n",
    "        if iter % print_every == 0:\n",
    "            print_loss_avg = print_loss_total / print_every\n",
    "            print_loss_total = 0\n",
    "            print('%s (%d %d%%) %.4f' % (timeSince(start, iter / n_iters),\n",
    "                                         iter, iter / n_iters * 100, print_loss_avg))\n",
    "\n",
    "        if iter % plot_every == 0:\n",
    "            plot_loss_avg = plot_loss_total / plot_every\n",
    "            plot_losses.append(plot_loss_avg)\n",
    "            plot_loss_total = 0\n",
    "\n",
    "    showPlot(plot_losses)\n"
   ]
  },
  {
   "cell_type": "code",
   "execution_count": 16,
   "metadata": {},
   "outputs": [],
   "source": [
    "\n",
    "def showPlot(points):\n",
    "    plt.figure()\n",
    "    fig, ax = plt.subplots()\n",
    "    # this locator puts ticks at regular intervals\n",
    "    loc = ticker.MultipleLocator(base=0.2)\n",
    "    ax.yaxis.set_major_locator(loc)\n",
    "    plt.plot(points)\n"
   ]
  },
  {
   "cell_type": "code",
   "execution_count": 17,
   "metadata": {},
   "outputs": [],
   "source": [
    "def evaluate(encoder, decoder, sentence, max_length=MAX_LENGTH):\n",
    "    with torch.no_grad():\n",
    "        input_tensor = tensorFromSentence(input_lang, sentence)\n",
    "        input_length = input_tensor.size()[0]\n",
    "        encoder_hidden = encoder.initHidden()\n",
    "\n",
    "        encoder_outputs = torch.zeros(max_length, encoder.hidden_size, device=device)\n",
    "\n",
    "        for ei in range(input_length):\n",
    "            encoder_output, encoder_hidden = encoder(input_tensor[ei],\n",
    "                                                     encoder_hidden)\n",
    "            encoder_outputs[ei] += encoder_output[0, 0]\n",
    "\n",
    "        decoder_input = torch.tensor([[SOS_token]], device=device)  # SOS\n",
    "\n",
    "        decoder_hidden = encoder_hidden\n",
    "\n",
    "        decoded_chars = []\n",
    "        decoder_attentions = torch.zeros(max_length, max_length)\n",
    "\n",
    "        for di in range(max_length):\n",
    "            decoder_output, decoder_hidden, decoder_attention = decoder(\n",
    "                decoder_input, decoder_hidden, encoder_outputs)\n",
    "            decoder_attentions[di] = decoder_attention.data\n",
    "            topv, topi = decoder_output.data.topk(1)\n",
    "            if topi.item() == EOS_token:\n",
    "                decoded_chars.append('<EOS>')\n",
    "                break\n",
    "            else:\n",
    "                decoded_chars.append(output_lang.index2char[topi.item()])\n",
    "\n",
    "            decoder_input = topi.squeeze().detach()\n",
    "\n",
    "        return decoded_chars, decoder_attentions[:di + 1]\n"
   ]
  },
  {
   "cell_type": "code",
   "execution_count": 241,
   "metadata": {},
   "outputs": [],
   "source": [
    "def evaluateRandomly(encoder, decoder, n=10):\n",
    "    for i in range(n):\n",
    "        pair = random.choice(pairs)\n",
    "        print('>', pair[0])\n",
    "        print('=', pair[1])\n",
    "        output_words, attentions = evaluate(encoder, decoder, pair[0])\n",
    "        output_sentence = ''.join(output_words)\n",
    "        print('<', output_sentence)\n",
    "        print('')"
   ]
  },
  {
   "cell_type": "code",
   "execution_count": 19,
   "metadata": {},
   "outputs": [
    {
     "name": "stdout",
     "output_type": "stream",
     "text": [
      "5m 4s (- 45m 37s) (5000 10%) 1.2282\n",
      "10m 27s (- 41m 51s) (10000 20%) 0.5710\n",
      "15m 45s (- 36m 45s) (15000 30%) 0.3557\n",
      "21m 4s (- 31m 36s) (20000 40%) 0.2314\n",
      "26m 40s (- 26m 40s) (25000 50%) 0.2284\n",
      "31m 58s (- 21m 19s) (30000 60%) 0.2077\n",
      "37m 22s (- 16m 1s) (35000 70%) 0.1454\n",
      "42m 46s (- 10m 41s) (40000 80%) 0.1503\n",
      "48m 11s (- 5m 21s) (45000 90%) 0.1153\n",
      "53m 37s (- 0m 0s) (50000 100%) 0.1268\n"
     ]
    },
    {
     "data": {
      "text/plain": [
       "<Figure size 432x288 with 0 Axes>"
      ]
     },
     "metadata": {},
     "output_type": "display_data"
    },
    {
     "data": {
      "image/png": "[encoded data removed]",
      "text/plain": [
       "<Figure size 432x288 with 1 Axes>"
      ]
     },
     "metadata": {},
     "output_type": "display_data"
    }
   ],
   "source": [
    "hidden_size = 256\n",
    "encoder1 = EncoderRNN(input_lang.n_chars, hidden_size).to(device) # Size of the vocabulary, i.e. maximum integer index + 1.\n",
    "attn_decoder1 = AttnDecoderRNN(hidden_size, output_lang.n_chars, dropout_p=0.1).to(device)\n",
    "\n",
    "trainIters(encoder1, attn_decoder1, 50000, print_every=5000)"
   ]
  },
  {
   "cell_type": "code",
   "execution_count": 240,
   "metadata": {},
   "outputs": [
    {
     "name": "stdout",
     "output_type": "stream",
     "text": [
      "5m 25s (- 48m 52s) (5000 10%) 0.0639\n",
      "11m 8s (- 44m 35s) (10000 20%) 0.0441\n",
      "16m 44s (- 39m 4s) (15000 30%) 0.0466\n",
      "22m 17s (- 33m 25s) (20000 40%) 0.0400\n",
      "27m 45s (- 27m 45s) (25000 50%) 0.0363\n",
      "33m 26s (- 22m 17s) (30000 60%) 0.0423\n",
      "38m 59s (- 16m 42s) (35000 70%) 0.0350\n",
      "44m 37s (- 11m 9s) (40000 80%) 0.0289\n",
      "50m 16s (- 5m 35s) (45000 90%) 0.0304\n",
      "55m 52s (- 0m 0s) (50000 100%) 0.0293\n"
     ]
    },
    {
     "data": {
      "text/plain": [
       "<Figure size 432x288 with 0 Axes>"
      ]
     },
     "metadata": {},
     "output_type": "display_data"
    },
    {
     "data": {
      "image/png": "[encoded data removed]",
      "text/plain": [
       "<Figure size 432x288 with 1 Axes>"
      ]
     },
     "metadata": {},
     "output_type": "display_data"
    }
   ],
   "source": [
    "trainIters(encoder1, attn_decoder1, 50000, print_every=5000,learning_rate=0.005)"
   ]
  },
  {
   "cell_type": "code",
   "execution_count": 242,
   "metadata": {},
   "outputs": [
    {
     "name": "stdout",
     "output_type": "stream",
     "text": [
      "> 1919\n",
      "= nineteen nineteen\n",
      "< nineteen nineteen<EOS>\n",
      "\n",
      "> 1958\n",
      "= nineteen fifty eight\n",
      "< nineteen fifty eight<EOS>\n",
      "\n",
      "> December 19, 2000\n",
      "= december nineteenth two thousand\n",
      "< december nineteenth two thousand<EOS>\n",
      "\n",
      "> October 2009\n",
      "= october two thousand nine\n",
      "< october two thousand nine<EOS>\n",
      "\n",
      "> 1976\n",
      "= nineteen seventy six\n",
      "< nineteen seventy six<EOS>\n",
      "\n",
      "> 2009\n",
      "= two thousand nine\n",
      "< two thousand nine<EOS>\n",
      "\n",
      "> 1995\n",
      "= nineteen ninety five\n",
      "< nineteen ninety five<EOS>\n",
      "\n",
      "> 1985\n",
      "= nineteen eighty five\n",
      "< nineteen eighty five<EOS>\n",
      "\n",
      "> 8 April 2010\n",
      "= the eighth of april twenty ten\n",
      "< the eighth of april twenty ten<EOS>\n",
      "\n",
      "> 1976\n",
      "= nineteen seventy six\n",
      "< nineteen seventy six<EOS>\n",
      "\n"
     ]
    }
   ],
   "source": [
    "evaluateRandomly(encoder1, attn_decoder1)"
   ]
  },
  {
   "cell_type": "code",
   "execution_count": 243,
   "metadata": {
    "scrolled": true
   },
   "outputs": [
    {
     "data": {
      "text/plain": [
       "<matplotlib.image.AxesImage at 0x7f606255dfd0>"
      ]
     },
     "execution_count": 243,
     "metadata": {},
     "output_type": "execute_result"
    },
    {
     "data": {
      "image/png": "[encoded data removed]",
      "text/plain": [
       "<Figure size 1098x288 with 1 Axes>"
      ]
     },
     "metadata": {},
     "output_type": "display_data"
    }
   ],
   "source": [
    "output_words, attentions = evaluate(\n",
    "    encoder1, attn_decoder1, \"2013\")\n",
    "plt.matshow(attentions.numpy())"
   ]
  },
  {
   "cell_type": "code",
   "execution_count": 244,
   "metadata": {},
   "outputs": [],
   "source": [
    "def plot_head_map(mma, target_labels, source_labels):\n",
    "    fig, ax = plt.subplots()\n",
    "    heatmap = ax.pcolor(mma, cmap=plt.cm.Blues)\n",
    "\n",
    "    # put the major ticks at the middle of each cell\n",
    "    ax.set_xticks(np.arange(mma.shape[1])+0.5, minor=False)\n",
    "    ax.set_yticks(np.arange(mma.shape[0])+0.5, minor=False)\n",
    "\n",
    "    # without this I get some extra columns rows\n",
    "    # http://stackoverflow.com/questions/31601351/why-does-this-matplotlib-heatmap-have-an-extra-blank-column\n",
    "    ax.set_xlim(0, len(source_labels)+2)\n",
    "    ax.set_ylim(0, len(target_labels)+1)\n",
    "\n",
    "    # want a more natural, table-like display\n",
    "    ax.invert_yaxis()\n",
    "    ax.xaxis.tick_top()\n",
    "\n",
    "    # source words -> column labels\n",
    "    ax.set_xticklabels(['']+list(source_labels), minor=False)\n",
    "    # target words -> row labels\n",
    "    ax.set_yticklabels(list(target_labels), minor=False)\n",
    "\n",
    "    plt.yticks(rotation=90)\n",
    "    plt.show()"
   ]
  },
  {
   "cell_type": "code",
   "execution_count": 245,
   "metadata": {},
   "outputs": [
    {
     "name": "stdout",
     "output_type": "stream",
     "text": [
      "input = 4 March 2014\n",
      "output = the fourth of march twenty fourteen<EOS>\n",
      "torch.Size([36, 61])\n"
     ]
    },
    {
     "data": {
      "image/png": "[encoded data removed]",
      "text/plain": [
       "<Figure size 432x288 with 1 Axes>"
      ]
     },
     "metadata": {},
     "output_type": "display_data"
    }
   ],
   "source": [
    "def evaluateAndShowAttention(input_sentence):\n",
    "    output_words, attentions = evaluate(\n",
    "        encoder1, attn_decoder1, input_sentence)\n",
    "    print('input =', input_sentence)\n",
    "    print('output =', ''.join(output_words))\n",
    "    print(attentions.shape)\n",
    "    plot_head_map(attentions,output_words,input_sentence)\n",
    "\n",
    "\n",
    "evaluateAndShowAttention(\"4 March 2014\")"
   ]
  },
  {
   "cell_type": "code",
   "execution_count": 246,
   "metadata": {},
   "outputs": [
    {
     "name": "stdout",
     "output_type": "stream",
     "text": [
      "input = 1982\n",
      "output = nineteen eighty two<EOS>\n",
      "torch.Size([20, 61])\n"
     ]
    },
    {
     "data": {
      "image/png": "[encoded data removed]",
      "text/plain": [
       "<Figure size 432x288 with 1 Axes>"
      ]
     },
     "metadata": {},
     "output_type": "display_data"
    }
   ],
   "source": [
    "evaluateAndShowAttention(\"1982\")"
   ]
  },
  {
   "cell_type": "code",
   "execution_count": 247,
   "metadata": {},
   "outputs": [
    {
     "name": "stdout",
     "output_type": "stream",
     "text": [
      "input = August 16, 2005\n",
      "output = august sixteenth two thousand five<EOS>\n",
      "torch.Size([35, 61])\n"
     ]
    },
    {
     "data": {
      "image/png": "[encoded data removed]",
      "text/plain": [
       "<Figure size 432x288 with 1 Axes>"
      ]
     },
     "metadata": {},
     "output_type": "display_data"
    }
   ],
   "source": [
    "evaluateAndShowAttention(\"August 16, 2005\")"
   ]
  },
  {
   "cell_type": "code",
   "execution_count": null,
   "metadata": {},
   "outputs": [],
   "source": []
  }
 ],
 "metadata": {
  "kernelspec": {
   "display_name": "Python 3",
   "language": "python",
   "name": "python3"
  },
  "language_info": {
   "codemirror_mode": {
    "name": "ipython",
    "version": 3
   },
   "file_extension": ".py",
   "mimetype": "text/x-python",
   "name": "python",
   "nbconvert_exporter": "python",
   "pygments_lexer": "ipython3",
   "version": "3.5.2"
  }
 },
 "nbformat": 4,
 "nbformat_minor": 2
}
